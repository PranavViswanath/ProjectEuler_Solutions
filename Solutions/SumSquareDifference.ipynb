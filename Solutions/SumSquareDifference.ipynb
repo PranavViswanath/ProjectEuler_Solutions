{
  "nbformat": 4,
  "nbformat_minor": 0,
  "metadata": {
    "colab": {
      "name": "SumSquareDifference.ipynb",
      "provenance": [],
      "authorship_tag": "ABX9TyM3jjKVRWN5zcAd+WDFDkgZ",
      "include_colab_link": true
    },
    "kernelspec": {
      "name": "python3",
      "display_name": "Python 3"
    },
    "language_info": {
      "name": "python"
    }
  },
  "cells": [
    {
      "cell_type": "markdown",
      "metadata": {
        "id": "view-in-github",
        "colab_type": "text"
      },
      "source": [
        "<a href=\"https://colab.research.google.com/github/PranavViswanath/ProjectEuler_Solutions/blob/main/Solutions/SumSquareDifference.ipynb\" target=\"_parent\"><img src=\"https://colab.research.google.com/assets/colab-badge.svg\" alt=\"Open In Colab\"/></a>"
      ]
    },
    {
      "cell_type": "markdown",
      "metadata": {
        "id": "t_sIIJWLlFAR"
      },
      "source": [
        "**Sum Square Difference**\n",
        "\n",
        "We are asked to find the difference of the first **100** natural numbers squared versus the sum of those numbers squared. The function below performs this operation for the first ***n*** natural numbers."
      ]
    },
    {
      "cell_type": "code",
      "metadata": {
        "id": "E7uGEDmwkUXg"
      },
      "source": [
        "def ssdiff(n): \n",
        "  square=0\n",
        "  sums = 0\n",
        "  for i in range(n+1):\n",
        "    square+=i**2\n",
        "    sums+=i\n",
        "  sums=sums**2\n",
        "  return sums-square"
      ],
      "execution_count": 4,
      "outputs": []
    },
    {
      "cell_type": "markdown",
      "metadata": {
        "id": "g8isfB0Rlm8O"
      },
      "source": [
        "Checking with the first **100** natural numbers:"
      ]
    },
    {
      "cell_type": "code",
      "metadata": {
        "colab": {
          "base_uri": "https://localhost:8080/"
        },
        "id": "tpTcBgQDkz7_",
        "outputId": "4c20993a-43da-4bfc-c3c4-d814434809ee"
      },
      "source": [
        "ssdiff(100)"
      ],
      "execution_count": 6,
      "outputs": [
        {
          "output_type": "execute_result",
          "data": {
            "text/plain": [
              "25164150"
            ]
          },
          "metadata": {},
          "execution_count": 6
        }
      ]
    },
    {
      "cell_type": "markdown",
      "metadata": {
        "id": "LeIJQVwuluNP"
      },
      "source": [
        "**Success!**"
      ]
    }
  ]
}