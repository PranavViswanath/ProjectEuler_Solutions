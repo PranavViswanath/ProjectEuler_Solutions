{
  "nbformat": 4,
  "nbformat_minor": 0,
  "metadata": {
    "colab": {
      "name": "P8-LargestProductInSeries.ipynb",
      "provenance": [],
      "authorship_tag": "ABX9TyNUNfp0b8IPw82voTVyGpOw",
      "include_colab_link": true
    },
    "kernelspec": {
      "name": "python3",
      "display_name": "Python 3"
    },
    "language_info": {
      "name": "python"
    }
  },
  "cells": [
    {
      "cell_type": "markdown",
      "metadata": {
        "id": "view-in-github",
        "colab_type": "text"
      },
      "source": [
        "<a href=\"https://colab.research.google.com/github/PranavViswanath/ProjectEuler_Solutions/blob/main/Solutions/P8-LargestProductInSeries.ipynb\" target=\"_parent\"><img src=\"https://colab.research.google.com/assets/colab-badge.svg\" alt=\"Open In Colab\"/></a>"
      ]
    },
    {
      "cell_type": "markdown",
      "metadata": {
        "id": "HUKnPPyemQJz"
      },
      "source": [
        "**Largest Product In A Series**\n",
        "\n",
        "Here, we are required to find the greatest product of all the groups of ***n*** adjacent numbers within a given number. In this case, the given number is 1000 digits long, and we must find the largest product of adjacent groups of 13 numbers. We tackle this in two steps.\n",
        "\n",
        "First, the function ***to_arr()*** takes a value ***x*** and appends its digits from the end of the number to an array, which is then reversed to give an array of all the digits in order for a number."
      ]
    },
    {
      "cell_type": "code",
      "metadata": {
        "id": "Xq_MbxjNi5xQ"
      },
      "source": [
        "def to_arr(x):\n",
        "  arr=[]\n",
        "  while x>1:\n",
        "    y=x%10\n",
        "    arr.append(int(y))\n",
        "    x=int(x)\n",
        "    x//=10\n",
        "  arr.reverse()\n",
        "  return arr"
      ],
      "execution_count": 98,
      "outputs": []
    },
    {
      "cell_type": "markdown",
      "metadata": {
        "id": "PNab68lznIWw"
      },
      "source": [
        "Then, ***max_prods()*** takes a value ***n*** for the number of digits to be adjacent in a group, and an array ***arr*** of the placevalues of the digit to be parsed (which we found in the first step with ***to_arr()***). We return the max value of the array ***prods***, which is indeed the largest number satisfying the criteria. "
      ]
    },
    {
      "cell_type": "code",
      "metadata": {
        "id": "uKgWcolKc8rM"
      },
      "source": [
        "def max_prods(n, arr):\n",
        "  prods=[]\n",
        "  for i in range(len(arr)-1):\n",
        "    j=arr[i]\n",
        "    for m in range(1,n):\n",
        "      if ((i+m)<len(arr)):\n",
        "        j*=arr[i+m]\n",
        "      else:\n",
        "        j=None\n",
        "    prods.append(j)\n",
        "  prods = [i for i in prods if i!=None]\n",
        "  return max(prods)"
      ],
      "execution_count": 105,
      "outputs": []
    },
    {
      "cell_type": "markdown",
      "metadata": {
        "id": "URxqGXiMoEio"
      },
      "source": [
        "Converting the given 1000-digit number to an array:"
      ]
    },
    {
      "cell_type": "code",
      "metadata": {
        "id": "XPnEsT74lx1g"
      },
      "source": [
        "x=to_arr(731671765313306249192251196744265747423553491949349698352031277450632623957831801698480186947885184385861560789112949495459501737958331952853208805511125406987471585238630507156932909632952274430435576689664895044524452316173185640309871112172238311322298934233803081353362766142828064444866452387493035890729629049156044077239071381051585930796086670172427121883998797908792274921901699720888093776657273330010533678812202354218097512545405947522435258490771167055601360483958644670632441572215539753697817977846174064955149290862569321978468622482839722413756570560574902614079729686524145351004748216637048440319989000889524345065854122758866688116427171479924442928230863465674813919123162824586178664583591245665294765456828489128831426076900422421902267105562632111110937054421750694165896040807198403850962455444362981230987879927244284909188845801561660979191338754992005240636899125607176060588611646710940507754100225698315520005593572972571636269561882670428252483600823257530420752963450)"
      ],
      "execution_count": 99,
      "outputs": []
    },
    {
      "cell_type": "markdown",
      "metadata": {
        "id": "1ZBqolBpoIQg"
      },
      "source": [
        "And running ***max_prods()*** with a value of 13 adjacent numbers for the given array, returning the max product:"
      ]
    },
    {
      "cell_type": "code",
      "metadata": {
        "colab": {
          "base_uri": "https://localhost:8080/"
        },
        "id": "e9AdT1oydPI8",
        "outputId": "7ddab5e8-8db1-45e0-e01e-9aafbf2d1210"
      },
      "source": [
        "max_prods(13, x)"
      ],
      "execution_count": 106,
      "outputs": [
        {
          "output_type": "execute_result",
          "data": {
            "text/plain": [
              "23514624000"
            ]
          },
          "metadata": {},
          "execution_count": 106
        }
      ]
    },
    {
      "cell_type": "markdown",
      "metadata": {
        "id": "yOUrkXUDoXkP"
      },
      "source": [
        "**Success!**"
      ]
    }
  ]
}