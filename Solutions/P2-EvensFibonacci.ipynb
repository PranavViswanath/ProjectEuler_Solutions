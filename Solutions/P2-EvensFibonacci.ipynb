{
  "nbformat": 4,
  "nbformat_minor": 0,
  "metadata": {
    "colab": {
      "name": "EvensFibonacci.ipynb",
      "provenance": [],
      "authorship_tag": "ABX9TyODlxeZuz4lAqOu5JpElVSU",
      "include_colab_link": true
    },
    "kernelspec": {
      "name": "python3",
      "display_name": "Python 3"
    },
    "language_info": {
      "name": "python"
    }
  },
  "cells": [
    {
      "cell_type": "markdown",
      "metadata": {
        "id": "view-in-github",
        "colab_type": "text"
      },
      "source": [
        "<a href=\"https://colab.research.google.com/github/PranavViswanath/ProjectEuler_Solutions/blob/main/Solutions/EvensFibonacci.ipynb\" target=\"_parent\"><img src=\"https://colab.research.google.com/assets/colab-badge.svg\" alt=\"Open In Colab\"/></a>"
      ]
    },
    {
      "cell_type": "markdown",
      "metadata": {
        "id": "sQ3fVBp_hsPQ"
      },
      "source": [
        "**Even Fibonacci Numbers**\n",
        "\n",
        "In this problem we are asked to find the sum of all even fibonnaci numbers whose values don't exceed 4 million. We break this into 2 parts.\n",
        "\n",
        "First, we create an array containing all the fibonnaci numbers under a given value. Below is the function that takes such a value and produces the corresponding sequence."
      ]
    },
    {
      "cell_type": "code",
      "metadata": {
        "id": "fIw3Hm81agh4"
      },
      "source": [
        "def fibonnaci(x): \n",
        "  arr=[1,2]\n",
        "  i=1\n",
        "  add=True\n",
        "  while (add==True):\n",
        "    app=arr[i]+arr[i-1]\n",
        "    if app<int(x):\n",
        "      arr.append(app)\n",
        "    else:\n",
        "      add=False\n",
        "    i+=1\n",
        "    return arr"
      ],
      "execution_count": 38,
      "outputs": []
    },
    {
      "cell_type": "markdown",
      "metadata": {
        "id": "KiRTx0eOiWQW"
      },
      "source": [
        "Next, we define a function that takes all the even values from a given array and returns the sum of just those values."
      ]
    },
    {
      "cell_type": "code",
      "metadata": {
        "id": "I1R-f-1ddDqR"
      },
      "source": [
        "def sum_evens(arr):\n",
        "  evens=[]\n",
        "  for i in arr:\n",
        "    if i%2==0:\n",
        "      evens.append(i)\n",
        "  print(sum(evens))"
      ],
      "execution_count": 45,
      "outputs": []
    },
    {
      "cell_type": "markdown",
      "metadata": {
        "id": "FYFwixMIieMs"
      },
      "source": [
        "We run the functions with the given value of 4 million:"
      ]
    },
    {
      "cell_type": "code",
      "metadata": {
        "colab": {
          "base_uri": "https://localhost:8080/"
        },
        "id": "ioc25OQ2hXKw",
        "outputId": "ee25262b-02b0-4a49-f98e-792d5124a3f5"
      },
      "source": [
        "sum_evens(fibonnaci(4000000))"
      ],
      "execution_count": 47,
      "outputs": [
        {
          "output_type": "stream",
          "text": [
            "4613732\n"
          ],
          "name": "stdout"
        }
      ]
    },
    {
      "cell_type": "markdown",
      "metadata": {
        "id": "5x1X__cyijb1"
      },
      "source": [
        "**Success!**"
      ]
    },
    {
      "cell_type": "code",
      "metadata": {
        "id": "N3h54_oLilJK"
      },
      "source": [
        ""
      ],
      "execution_count": null,
      "outputs": []
    }
  ]
}
