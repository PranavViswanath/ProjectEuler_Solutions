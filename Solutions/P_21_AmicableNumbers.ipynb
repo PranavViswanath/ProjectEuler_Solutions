{
  "nbformat": 4,
  "nbformat_minor": 0,
  "metadata": {
    "colab": {
      "name": "AmicableNumbers.ipynb",
      "provenance": [],
      "authorship_tag": "ABX9TyPUYfc9DnblvzlpQYDBgeX9",
      "include_colab_link": true
    },
    "kernelspec": {
      "name": "python3",
      "display_name": "Python 3"
    },
    "language_info": {
      "name": "python"
    }
  },
  "cells": [
    {
      "cell_type": "markdown",
      "metadata": {
        "id": "view-in-github",
        "colab_type": "text"
      },
      "source": [
        "<a href=\"https://colab.research.google.com/github/PranavViswanath/ProjectEuler_Solutions/blob/main/Solutions/P_21_AmicableNumbers.ipynb\" target=\"_parent\"><img src=\"https://colab.research.google.com/assets/colab-badge.svg\" alt=\"Open In Colab\"/></a>"
      ]
    },
    {
      "cell_type": "markdown",
      "metadata": {
        "id": "4I1WQ5GyhqGb"
      },
      "source": [
        "**Amicable Numbers**\n",
        "\n",
        "In this problem, we define \"amicable numbers\" in the following manner: take a number ***n*** and find the sum of its divisors. Then take ***that*** sum and find the sum of ***its*** divisors. If the final sum and the original number ***n*** are the same, then ***n*** and the sum of its divisors are taken to be an ***amicable pair*** of numbers. Here, we are asked to find the sum of all such amicable numbers under 10,000.\n",
        "\n",
        "We define a function ***divs()*** which finds all the divisors of ***n***. Then we use ***is_amicable()*** to use the above procedure and determine if a number is amicable or not. We finally run this for all numbers below 10,000 and return the sum of all such numbers, as requested."
      ]
    },
    {
      "cell_type": "code",
      "metadata": {
        "id": "wRhLgoJMRKc0"
      },
      "source": [
        "def divs(n):\n",
        "  arr=[]\n",
        "  for i in range(1,(n//2)+1):\n",
        "    if n%i==0:\n",
        "      arr.append(i)\n",
        "  return arr"
      ],
      "execution_count": 18,
      "outputs": []
    },
    {
      "cell_type": "code",
      "metadata": {
        "id": "RvbP5If4RvGU"
      },
      "source": [
        "def is_amicable(n):\n",
        "  x=sum(divs(n))\n",
        "  y=sum(divs(x))\n",
        "  if (n==y) & (n!=x): #so n and divs(n) aren't equal\n",
        "    #print(n,x)\n",
        "    return True\n",
        "  else:\n",
        "    return False"
      ],
      "execution_count": 51,
      "outputs": []
    },
    {
      "cell_type": "code",
      "metadata": {
        "colab": {
          "base_uri": "https://localhost:8080/"
        },
        "id": "p6cY67ABUbeD",
        "outputId": "60135c52-a232-4f2d-ee0b-e95ad0861233"
      },
      "source": [
        "arr=[]\n",
        "for i in range(1,10001):\n",
        "  if is_amicable(i):\n",
        "    arr.append(i)\n",
        "\n",
        "sum(arr)"
      ],
      "execution_count": 52,
      "outputs": [
        {
          "output_type": "execute_result",
          "data": {
            "text/plain": [
              "31626"
            ]
          },
          "metadata": {},
          "execution_count": 52
        }
      ]
    },
    {
      "cell_type": "markdown",
      "metadata": {
        "id": "y65Q1kstjQk3"
      },
      "source": [
        "**Success!**"
      ]
    }
  ]
}