{
  "nbformat": 4,
  "nbformat_minor": 0,
  "metadata": {
    "colab": {
      "name": "P14_LongestCollatz.ipynb",
      "provenance": [],
      "authorship_tag": "ABX9TyPaWGmKcPkjzCB+DxiyBDto",
      "include_colab_link": true
    },
    "kernelspec": {
      "name": "python3",
      "display_name": "Python 3"
    },
    "language_info": {
      "name": "python"
    }
  },
  "cells": [
    {
      "cell_type": "markdown",
      "metadata": {
        "id": "view-in-github",
        "colab_type": "text"
      },
      "source": [
        "<a href=\"https://colab.research.google.com/github/PranavViswanath/ProjectEuler_Solutions/blob/main/Solutions/P14_LongestCollatz.ipynb\" target=\"_parent\"><img src=\"https://colab.research.google.com/assets/colab-badge.svg\" alt=\"Open In Colab\"/></a>"
      ]
    },
    {
      "cell_type": "markdown",
      "metadata": {
        "id": "6amst-TpwNbP"
      },
      "source": [
        "**Longest Collatz Sequence**\n",
        "\n",
        "In this problem, we define the \"Collatz sequence\" as follows: starting with a given value ***n***, if it is even, the next number is ***2n***, if is odd, the next number is ***3n+1***. We continue this rule with the next number in the series until the number reaches 1, from which the series should terminate. We are being asked to find the number under 1 million with the longest such Collatz sequence as defined in this manner. \n",
        "\n",
        "To compute this, we define a function ***collatz()*** that finds the Collatz sequences of every value under some number ***n***. To find the number providing the max number of elements in a sequence, we store each Collatz sequence in an array, and declare a number to be the max Collatz generator if its sequence was longer than any number prior. We end up returning the value ***num*** of the winning number in this manner."
      ]
    },
    {
      "cell_type": "code",
      "metadata": {
        "id": "GU4TZZ2qq0Rx"
      },
      "source": [
        "def collatz(n):\n",
        "  num=0\n",
        "  lon=0\n",
        "  arr=[]\n",
        "  for i in range(1,n): #iterating through every number under value\n",
        "    arr.append(i)\n",
        "    while arr[-1]!=1: #while last number != 1, ending sequence\n",
        "      if arr[-1]%2==0: # add n/2 if n is even\n",
        "        arr.append(arr[-1]/2)\n",
        "      else:\n",
        "        arr.append((3*arr[-1])+1) # add 3n+1 if n is odd\n",
        "    if len(arr)>lon:\n",
        "      lon=len(arr)\n",
        "      num=i #finding the number with the longest array of collatz values\n",
        "    arr=[]\n",
        "  return num\n"
      ],
      "execution_count": 9,
      "outputs": []
    },
    {
      "cell_type": "markdown",
      "metadata": {
        "id": "eF39Ay2kxiSW"
      },
      "source": [
        "Running ***collatz()*** with 1,000,000:"
      ]
    },
    {
      "cell_type": "code",
      "metadata": {
        "colab": {
          "base_uri": "https://localhost:8080/"
        },
        "id": "ZBSEGo3CsMqM",
        "outputId": "afd2df4c-5111-4d68-e310-f8c6bce24b38"
      },
      "source": [
        "collatz(1000000)"
      ],
      "execution_count": 10,
      "outputs": [
        {
          "output_type": "execute_result",
          "data": {
            "text/plain": [
              "837799"
            ]
          },
          "metadata": {},
          "execution_count": 10
        }
      ]
    },
    {
      "cell_type": "markdown",
      "metadata": {
        "id": "GE3ft8NCxlM1"
      },
      "source": [
        "**Success!**"
      ]
    }
  ]
}
