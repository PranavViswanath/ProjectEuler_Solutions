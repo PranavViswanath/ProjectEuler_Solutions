{
  "nbformat": 4,
  "nbformat_minor": 0,
  "metadata": {
    "colab": {
      "name": "P_11-LargestProductInGrid.ipynb",
      "provenance": [],
      "authorship_tag": "ABX9TyNMDprIJrAeduhVUegEZxnC",
      "include_colab_link": true
    },
    "kernelspec": {
      "name": "python3",
      "display_name": "Python 3"
    },
    "language_info": {
      "name": "python"
    }
  },
  "cells": [
    {
      "cell_type": "markdown",
      "metadata": {
        "id": "view-in-github",
        "colab_type": "text"
      },
      "source": [
        "<a href=\"https://colab.research.google.com/github/PranavViswanath/ProjectEuler_Solutions/blob/main/Solutions/P_11_LargestProductInGrid.ipynb\" target=\"_parent\"><img src=\"https://colab.research.google.com/assets/colab-badge.svg\" alt=\"Open In Colab\"/></a>"
      ]
    },
    {
      "cell_type": "markdown",
      "metadata": {
        "id": "641mUF8yz_xu"
      },
      "source": [
        "**Largest Product In A Grid**\n",
        "\n",
        "In this problem, we are provided a 20x20 grid of numbers. We are asked to identify the greatest product of an **adjacent group of n values**, including all possibilities going up, down, right, left, and diagonally. We have below a method that takes in a 2d array and returns the greatest product of any group of **n** adjacent numbers as per the above criteria.\n",
        "\n",
        "First we must process the given grid, as in its current form it is a multi-line string, and we want to read it as a 20x20 grid. We first process the multiline string, then use ***to_2d_arr()*** to convert the numbers into a 20x20 2d array."
      ]
    },
    {
      "cell_type": "code",
      "metadata": {
        "id": "JH8zz1irVIFc"
      },
      "source": [
        "x='''08 02 22 97 38 15 00 40 00 75 04 05 07 78 52 12 50 77 91 08\n",
        "49 49 99 40 17 81 18 57 60 87 17 40 98 43 69 48 04 56 62 00\n",
        "81 49 31 73 55 79 14 29 93 71 40 67 53 88 30 03 49 13 36 65\n",
        "52 70 95 23 04 60 11 42 69 24 68 56 01 32 56 71 37 02 36 91\n",
        "22 31 16 71 51 67 63 89 41 92 36 54 22 40 40 28 66 33 13 80\n",
        "24 47 32 60 99 03 45 02 44 75 33 53 78 36 84 20 35 17 12 50\n",
        "32 98 81 28 64 23 67 10 26 38 40 67 59 54 70 66 18 38 64 70\n",
        "67 26 20 68 02 62 12 20 95 63 94 39 63 08 40 91 66 49 94 21\n",
        "24 55 58 05 66 73 99 26 97 17 78 78 96 83 14 88 34 89 63 72\n",
        "21 36 23 09 75 00 76 44 20 45 35 14 00 61 33 97 34 31 33 95\n",
        "78 17 53 28 22 75 31 67 15 94 03 80 04 62 16 14 09 53 56 92\n",
        "16 39 05 42 96 35 31 47 55 58 88 24 00 17 54 24 36 29 85 57\n",
        "86 56 00 48 35 71 89 07 05 44 44 37 44 60 21 58 51 54 17 58\n",
        "19 80 81 68 05 94 47 69 28 73 92 13 86 52 17 77 04 89 55 40\n",
        "04 52 08 83 97 35 99 16 07 97 57 32 16 26 26 79 33 27 98 66\n",
        "88 36 68 87 57 62 20 72 03 46 33 67 46 55 12 32 63 93 53 69\n",
        "04 42 16 73 38 25 39 11 24 94 72 18 08 46 29 32 40 62 76 36\n",
        "20 69 36 41 72 30 23 88 34 62 99 69 82 67 59 85 74 04 36 16\n",
        "20 73 35 29 78 31 90 01 74 31 49 71 48 86 81 16 23 57 05 54\n",
        "01 70 54 71 83 51 54 69 16 92 33 48 61 43 52 01 89 19 67 48'''\n",
        "def rem(string):\n",
        "  string=string.replace(\" \", \"\")\n",
        "  string=string.replace(\"\\n\",'')\n",
        "  return string\n",
        "x=int(rem(x))"
      ],
      "execution_count": 198,
      "outputs": []
    },
    {
      "cell_type": "code",
      "metadata": {
        "id": "KGwr02G9WlF6"
      },
      "source": [
        "def to_2d_arr(x):\n",
        "  arr=[]\n",
        "  while x>1:\n",
        "    y=x%100\n",
        "    arr.append(int(y))\n",
        "    x=int(x)\n",
        "    x//=100\n",
        "  arr.reverse()\n",
        "  finarr=[]\n",
        "  nrow=[]\n",
        "  for i in arr:\n",
        "    if len(nrow)<19:\n",
        "      nrow.append(i)\n",
        "    else:\n",
        "      finarr.append(nrow)\n",
        "      nrow=[]\n",
        "  return finarr\n",
        "  \n",
        "y=to_2d_arr(x)"
      ],
      "execution_count": 199,
      "outputs": []
    },
    {
      "cell_type": "markdown",
      "metadata": {
        "id": "EsN_HBGD1ym9"
      },
      "source": [
        "We now come to the problem. We want to come up with ways to efficiently find all possible groupings of n adjacent numbers and their products in every orientation. Firstly, we see that if we take the products of ***n*** adjacent numbers in every row and column, we have effectively covered all of the up/down/left/right groupings. Below, we define a function ***max_prods()*** that returns an array of all products of ***n*** adjacent numbers from a 1d array."
      ]
    },
    {
      "cell_type": "code",
      "metadata": {
        "id": "b1ewKfEOTxJK"
      },
      "source": [
        "def max_prods(n, arr):\n",
        "  prods=[]\n",
        "  for i in range(len(arr)-1):\n",
        "    j=arr[i]\n",
        "    for m in range(1,n):\n",
        "      if ((i+m)<len(arr)):\n",
        "        j*=arr[i+m]\n",
        "      else:\n",
        "        j=None\n",
        "    prods.append(j)\n",
        "  prods = [i for i in prods if i!=None]\n",
        "  return prods"
      ],
      "execution_count": 200,
      "outputs": []
    },
    {
      "cell_type": "markdown",
      "metadata": {
        "id": "Bf6WGSdZ2iSn"
      },
      "source": [
        "Now we come to the diagonals. Despite appearing tricky, there is a simple iterative method to find all possible diagonal groupings of ***n*** adjacent numbers in a grid. From the top left corner of the grid, the first diagonal combo would be the first number, then the number which is one over to the right and down, then the number which is 2 over to the right and down, etc. These define our **\"right diagonals\"**, which are all the possible diagonals going from left to right for each element. We can find all such right diagonals for an array from left to right, and repeat the process for every array in the 2d array going down until there is no more room for ***n*** adjacent diagonals. The function ***rd()*** does exactly this. But these comprise only half the picture."
      ]
    },
    {
      "cell_type": "code",
      "metadata": {
        "id": "GU1DZu8QwiSv"
      },
      "source": [
        "#rdiag done\n",
        "def rd(adj, arr):  \n",
        "  a=arr.tolist()\n",
        "  orow=[]\n",
        "  count=0\n",
        "  for i in a:\n",
        "    count+=1\n",
        "    if (count+adj-2)<len(a):\n",
        "      for n in i:\n",
        "        x=1\n",
        "        j=i.index(n)\n",
        "        if (j+adj-1)<len(i):\n",
        "          r=count-1\n",
        "          c=j\n",
        "          t=0\n",
        "          while t<adj:\n",
        "            x*=a[r+t][c+t]\n",
        "            t+=1\n",
        "        else:\n",
        "          x=None\n",
        "        orow.append(x)\n",
        "  fin1=[i for i in orow if i!=None]\n",
        "  return fin1"
      ],
      "execution_count": 201,
      "outputs": []
    },
    {
      "cell_type": "markdown",
      "metadata": {
        "id": "l1YzJGlK4V63"
      },
      "source": [
        "We must also do the above process for **left diagonals**, or all the diagonal groupings from right to left. Instead of having to rewrite the above function to do this, we can cleverly use ***.reverse()*** to flip around the original 2d array, with which we can then do the iterative **\"right diagonal\"** process. This actually ends up finding all the left diagonals like we originally wanted to!"
      ]
    },
    {
      "cell_type": "code",
      "metadata": {
        "id": "o1EzJ_NoQg4j"
      },
      "source": [
        "#ldiag done\n",
        "def ld(adj, arr):  \n",
        "  a=arr.tolist()\n",
        "  for i in a:\n",
        "    i.reverse()\n",
        "\n",
        "  orow=[]\n",
        "  count=0\n",
        "  for i in a:\n",
        "    count+=1\n",
        "    if (count+adj-2)<len(a):\n",
        "      for n in i:\n",
        "        x=1\n",
        "        j=i.index(n)\n",
        "        if (j+adj-1)<len(i):\n",
        "          r=count-1\n",
        "          c=j\n",
        "          t=0\n",
        "          while t<adj:\n",
        "            x*=a[r+t][c+t]\n",
        "            t+=1\n",
        "        else:\n",
        "          x=None\n",
        "        orow.append(x)\n",
        "  fin1=[i for i in orow if i!=None]\n",
        "  return fin1"
      ],
      "execution_count": 202,
      "outputs": []
    },
    {
      "cell_type": "markdown",
      "metadata": {
        "id": "pK9BBjh15ACc"
      },
      "source": [
        "We have broken down the problem into 4 parts: rows, columns, and right/left diagonals. The function ***prods()*** puts all these methods together. It iterates through every row and column, and returns just the greatest product (grouping of adjacent numbers) to an array **finrow** instead of all the numbers to save space. Then, it uses the ***rd()*** and ***ld()*** functions to compute the diagonal products of the 2d array, and returns just the greatest value from those methods. Finally, the greatest possible product of all the groupings is returned by finding the max value of **finrow**. Phew!"
      ]
    },
    {
      "cell_type": "code",
      "metadata": {
        "id": "3AkUFEmKRXJE"
      },
      "source": [
        "def prods(adj, arr):\n",
        "  finprods=[]\n",
        "  #l/r\n",
        "  for i in arr:\n",
        "    rowprods=max_prods(adj, i)\n",
        "    finprods.append(max(rowprods))\n",
        "  #u/d\n",
        "  for i in np.array(arr).transpose():\n",
        "    colprods=max_prods(adj, i)\n",
        "    finprods.append(max(colprods))\n",
        "  #rdiag\n",
        "  finprods.append(max(rd(adj,np.array(arr))))\n",
        "  #ldiag\n",
        "  finprods.append(max(ld(adj,np.array(arr))))\n",
        "  return max(finprods)"
      ],
      "execution_count": 203,
      "outputs": []
    },
    {
      "cell_type": "markdown",
      "metadata": {
        "id": "biLWcLCN59Bk"
      },
      "source": [
        "Running ***prods()*** with grouping size \"4\" and the 2d array form of the 20x20 grid \"y\":"
      ]
    },
    {
      "cell_type": "code",
      "metadata": {
        "colab": {
          "base_uri": "https://localhost:8080/"
        },
        "id": "OajJ41zlULCj",
        "outputId": "9366f2cd-4862-4a88-bb82-3df6410b135e"
      },
      "source": [
        "prods(4, y)"
      ],
      "execution_count": 204,
      "outputs": [
        {
          "output_type": "execute_result",
          "data": {
            "text/plain": [
              "70600674"
            ]
          },
          "metadata": {},
          "execution_count": 204
        }
      ]
    },
    {
      "cell_type": "markdown",
      "metadata": {
        "id": "8CXIdXHE6IND"
      },
      "source": [
        "**Success!**"
      ]
    }
  ]
}