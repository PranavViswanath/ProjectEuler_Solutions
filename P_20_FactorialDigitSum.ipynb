{
  "nbformat": 4,
  "nbformat_minor": 0,
  "metadata": {
    "colab": {
      "name": "FactorialDigitSum.ipynb",
      "provenance": [],
      "authorship_tag": "ABX9TyNB/STDWXexKKiGQ9EgEM+s",
      "include_colab_link": true
    },
    "kernelspec": {
      "name": "python3",
      "display_name": "Python 3"
    },
    "language_info": {
      "name": "python"
    }
  },
  "cells": [
    {
      "cell_type": "markdown",
      "metadata": {
        "id": "view-in-github",
        "colab_type": "text"
      },
      "source": [
        "<a href=\"https://colab.research.google.com/github/PranavViswanath/ProjectEuler_Solutions/blob/main/P_20_FactorialDigitSum.ipynb\" target=\"_parent\"><img src=\"https://colab.research.google.com/assets/colab-badge.svg\" alt=\"Open In Colab\"/></a>"
      ]
    },
    {
      "cell_type": "markdown",
      "metadata": {
        "id": "jqW76d62PmdF"
      },
      "source": [
        "**Factorial Digit Sum**\n",
        "\n",
        "In this problem, we are asked to return the sum of the digits of 100 factorial. We define a function ***fact()*** which finds the factorial of a number ***n*** , as well as a function ***sum_digs()*** which returns the sum of the digits in ***n***. "
      ]
    },
    {
      "cell_type": "code",
      "metadata": {
        "id": "jlkKMa6dBQ9j"
      },
      "source": [
        "def fact(n):\n",
        "  x=n\n",
        "  fin=1\n",
        "  while (x>0):\n",
        "    fin*=x\n",
        "    x-=1\n",
        "  return fin"
      ],
      "execution_count": 1,
      "outputs": []
    },
    {
      "cell_type": "code",
      "metadata": {
        "id": "BveFK_DXBtio"
      },
      "source": [
        "def sum_digs(n):\n",
        "  tot=0\n",
        "  while (n>.9):\n",
        "    tot+=n%10\n",
        "    n//=10\n",
        "  return tot"
      ],
      "execution_count": 15,
      "outputs": []
    },
    {
      "cell_type": "markdown",
      "metadata": {
        "id": "26FA1cdNQWWG"
      },
      "source": [
        "Running the functions with ***n=100***:"
      ]
    },
    {
      "cell_type": "code",
      "metadata": {
        "colab": {
          "base_uri": "https://localhost:8080/"
        },
        "id": "fQhXkW-BB-iB",
        "outputId": "62f403a8-89cd-4387-e3e8-91a78a22e5ff"
      },
      "source": [
        "sum_digs(fact(100))"
      ],
      "execution_count": 19,
      "outputs": [
        {
          "output_type": "execute_result",
          "data": {
            "text/plain": [
              "648"
            ]
          },
          "metadata": {},
          "execution_count": 19
        }
      ]
    },
    {
      "cell_type": "markdown",
      "metadata": {
        "id": "V0szux3HQcD7"
      },
      "source": [
        "**Success!**"
      ]
    }
  ]
}