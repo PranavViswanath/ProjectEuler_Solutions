{
  "nbformat": 4,
  "nbformat_minor": 0,
  "metadata": {
    "colab": {
      "name": "Nth_Digit_FibNumber",
      "provenance": [],
      "authorship_tag": "ABX9TyOlXbDv0nid3yJ8c9JtGrjV",
      "include_colab_link": true
    },
    "kernelspec": {
      "name": "python3",
      "display_name": "Python 3"
    },
    "language_info": {
      "name": "python"
    }
  },
  "cells": [
    {
      "cell_type": "markdown",
      "metadata": {
        "id": "view-in-github",
        "colab_type": "text"
      },
      "source": [
        "<a href=\"https://colab.research.google.com/github/PranavViswanath/ProjectEuler_Solutions/blob/main/Solutions/P_25_Nth_Digit_FibNumber.ipynb\" target=\"_parent\"><img src=\"https://colab.research.google.com/assets/colab-badge.svg\" alt=\"Open In Colab\"/></a>"
      ]
    },
    {
      "cell_type": "markdown",
      "metadata": {
        "id": "EEynfxO91f3F"
      },
      "source": [
        "**1000-digit Fibonnaci Number**\n",
        "\n",
        "In this problem, we are asked to return the index of the first Fibonnaci number with 1000 digits. We first use ***numdigits()*** that returns the number of digits in a number, and then use ***fibonnaci()*** to generate the fibonnaci sequence until a number with 1000 digits is reached (using ***numdigits()***). We finally return the index of that number, as the problem required."
      ]
    },
    {
      "cell_type": "code",
      "metadata": {
        "id": "lk-GR5tDzsvE"
      },
      "source": [
        "def numdigits(n):\n",
        "  count=0\n",
        "  while n>=1: \n",
        "    x=n%10 \n",
        "    count+=1\n",
        "    n//=10 \n",
        "  return count"
      ],
      "execution_count": 8,
      "outputs": []
    },
    {
      "cell_type": "code",
      "metadata": {
        "id": "JnaVp_wmtnaU"
      },
      "source": [
        "def fibonnaci(x): \n",
        "  arr=[1,1]\n",
        "  while numdigits(max(arr))<x:\n",
        "    arr.append((arr[-1]+arr[-2]))\n",
        "  ind=arr.index(max(arr))\n",
        "  return ind+1\n",
        "  #return ind+1"
      ],
      "execution_count": 20,
      "outputs": []
    },
    {
      "cell_type": "markdown",
      "metadata": {
        "id": "yueK-Wsk2Sci"
      },
      "source": [
        "Running ***fibonnaci()*** with 1000:"
      ]
    },
    {
      "cell_type": "code",
      "metadata": {
        "colab": {
          "base_uri": "https://localhost:8080/"
        },
        "id": "I3DBJ7260S0c",
        "outputId": "a0253fc9-f3c9-479b-fd65-a9843128fd23"
      },
      "source": [
        "fibonnaci(1000)"
      ],
      "execution_count": 23,
      "outputs": [
        {
          "output_type": "execute_result",
          "data": {
            "text/plain": [
              "4782"
            ]
          },
          "metadata": {},
          "execution_count": 23
        }
      ]
    },
    {
      "cell_type": "markdown",
      "metadata": {
        "id": "Smngzq282V1D"
      },
      "source": [
        "**Success!**"
      ]
    }
  ]
}