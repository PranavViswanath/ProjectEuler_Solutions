{
  "nbformat": 4,
  "nbformat_minor": 0,
  "metadata": {
    "colab": {
      "name": "LargestPalindromeProduct.ipynb",
      "provenance": [],
      "authorship_tag": "ABX9TyODlZ54VPYzAYktVcRUUXSS",
      "include_colab_link": true
    },
    "kernelspec": {
      "name": "python3",
      "display_name": "Python 3"
    },
    "language_info": {
      "name": "python"
    }
  },
  "cells": [
    {
      "cell_type": "markdown",
      "metadata": {
        "id": "view-in-github",
        "colab_type": "text"
      },
      "source": [
        "<a href=\"https://colab.research.google.com/github/PranavViswanath/ProjectEuler_Solutions/blob/main/Solutions/LargestPalindromeProduct.ipynb\" target=\"_parent\"><img src=\"https://colab.research.google.com/assets/colab-badge.svg\" alt=\"Open In Colab\"/></a>"
      ]
    },
    {
      "cell_type": "markdown",
      "metadata": {
        "id": "OXY0kmZWTYku"
      },
      "source": [
        "**Largest Palindrome Product**\n",
        "\n",
        "In this problem we are asked to return the largest palindrome number that is a product of two 3-digit numbers. To accomplish this, we define a function **largestPalindrome(x)** that takes an integer \"x\" that tells us to find the largest palindrome formed from the product of two x-digit numbers.\n",
        "\n",
        "It iterates through every possible product of x-digit numbers, and then assigns all palindromes to an empty list. Once done so, it returns that max number from that list, solving the problem."
      ]
    },
    {
      "cell_type": "code",
      "metadata": {
        "id": "bo_-aJhzRcwG"
      },
      "source": [
        "def largestPalindrome(x):\n",
        "  pals=[]\n",
        "  for i in range(10**(x-1),10**x):\n",
        "    for j in range(10**(x-1),10**x):\n",
        "      y=i*j\n",
        "      if str(y)==str(y)[::-1]:\n",
        "        pals.append(y)\n",
        "  intpals = [int(i) for i in pals]\n",
        "  return max(intpals)"
      ],
      "execution_count": 30,
      "outputs": []
    },
    {
      "cell_type": "markdown",
      "metadata": {
        "id": "7u5iQNzYUSWe"
      },
      "source": [
        "Testing **largestPalindrome()** with x=3 as requested:"
      ]
    },
    {
      "cell_type": "code",
      "metadata": {
        "colab": {
          "base_uri": "https://localhost:8080/"
        },
        "id": "6ZCnsgo2SJzL",
        "outputId": "f332d4ca-a472-4111-9d9a-786af2f3d76a"
      },
      "source": [
        "largestPalindrome(3)"
      ],
      "execution_count": 31,
      "outputs": [
        {
          "output_type": "execute_result",
          "data": {
            "text/plain": [
              "906609"
            ]
          },
          "metadata": {},
          "execution_count": 31
        }
      ]
    },
    {
      "cell_type": "markdown",
      "metadata": {
        "id": "jIMIRglpUakz"
      },
      "source": [
        "**Success!**"
      ]
    }
  ]
}