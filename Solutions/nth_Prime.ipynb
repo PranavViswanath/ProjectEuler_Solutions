{
  "nbformat": 4,
  "nbformat_minor": 0,
  "metadata": {
    "colab": {
      "name": "nth_Prime.ipynb",
      "provenance": [],
      "authorship_tag": "ABX9TyMPw5uUSdp+CLp2vt+kgZbA",
      "include_colab_link": true
    },
    "kernelspec": {
      "name": "python3",
      "display_name": "Python 3"
    },
    "language_info": {
      "name": "python"
    }
  },
  "cells": [
    {
      "cell_type": "markdown",
      "metadata": {
        "id": "view-in-github",
        "colab_type": "text"
      },
      "source": [
        "<a href=\"https://colab.research.google.com/github/PranavViswanath/ProjectEuler_Solutions/blob/main/Solutions/nth_Prime.ipynb\" target=\"_parent\"><img src=\"https://colab.research.google.com/assets/colab-badge.svg\" alt=\"Open In Colab\"/></a>"
      ]
    },
    {
      "cell_type": "markdown",
      "metadata": {
        "id": "1EODPnBx-0Ms"
      },
      "source": [
        "**10,001st Prime**\n",
        "\n",
        "In this problem, we are asked to return the 10,001st prime. Here is a method to quickly return any nth prime.\n",
        "\n",
        "First we define a function ***isprime()*** that defines a number as prime or not by checking if it is divisible or not for any number from ***2*** to the ***square root*** of that number (because the sqrt is considered a multiple of that number, thus meaning that by definition if it can be evenly divisible by its sqrt it cannot be prime).\n"
      ]
    },
    {
      "cell_type": "code",
      "metadata": {
        "id": "3-FZMVto5IxK"
      },
      "source": [
        "import numpy as np\n",
        "def isprime(x):\n",
        "  ans=False\n",
        "  for i in range(2,int(np.sqrt(x))+1):\n",
        "    if x%i==0:\n",
        "      ans=False\n",
        "      break\n",
        "    else:\n",
        "      ans=True\n",
        "  return ans"
      ],
      "execution_count": 73,
      "outputs": []
    },
    {
      "cell_type": "markdown",
      "metadata": {
        "id": "Lbo5Vu44_x0t"
      },
      "source": [
        "Then, the function ***nprimes()*** initializes an array of the first two primes (2,3), then iterates through every number afterwards and checks if it is prime or not using ***isprime()***. Those values are added to the array until the length of the array reaches ***n*** digits, and thus we have an array of the first ***n*** primes. Finally, we return the max value of the array which is thus in fact the ***nth*** prime, and we are done!"
      ]
    },
    {
      "cell_type": "code",
      "metadata": {
        "id": "MKsGi4dr1y50"
      },
      "source": [
        "def nprimes(n):\n",
        "  arr=[2,3]\n",
        "  i=2\n",
        "  while(len(arr)<n):\n",
        "    if isprime(i):\n",
        "      arr.append(i)\n",
        "    i+=1\n",
        "  return max(arr)"
      ],
      "execution_count": 76,
      "outputs": []
    },
    {
      "cell_type": "markdown",
      "metadata": {
        "id": "tJLy9RFrAYCp"
      },
      "source": [
        "Testing ***nprimes()*** with 10,001 to find the 10,001st prime:"
      ]
    },
    {
      "cell_type": "code",
      "metadata": {
        "colab": {
          "base_uri": "https://localhost:8080/"
        },
        "id": "abVZlKGj9K2n",
        "outputId": "40f184b7-6dd2-4309-88ae-4302894f4739"
      },
      "source": [
        "nprimes(10001)"
      ],
      "execution_count": 77,
      "outputs": [
        {
          "output_type": "execute_result",
          "data": {
            "text/plain": [
              "104743"
            ]
          },
          "metadata": {},
          "execution_count": 77
        }
      ]
    },
    {
      "cell_type": "markdown",
      "metadata": {
        "id": "gb-RykqpAi9Z"
      },
      "source": [
        "**Success!**"
      ]
    }
  ]
}