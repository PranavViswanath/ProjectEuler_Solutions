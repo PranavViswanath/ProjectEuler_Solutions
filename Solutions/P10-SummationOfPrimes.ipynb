{
  "nbformat": 4,
  "nbformat_minor": 0,
  "metadata": {
    "colab": {
      "name": "P10-SummationOfPrimes.ipynb",
      "provenance": [],
      "authorship_tag": "ABX9TyMkDozuTkW0pbeoeEhk3ktE",
      "include_colab_link": true
    },
    "kernelspec": {
      "name": "python3",
      "display_name": "Python 3"
    },
    "language_info": {
      "name": "python"
    }
  },
  "cells": [
    {
      "cell_type": "markdown",
      "metadata": {
        "id": "view-in-github",
        "colab_type": "text"
      },
      "source": [
        "<a href=\"https://colab.research.google.com/github/PranavViswanath/ProjectEuler_Solutions/blob/main/Solutions/P10-SummationOfPrimes.ipynb\" target=\"_parent\"><img src=\"https://colab.research.google.com/assets/colab-badge.svg\" alt=\"Open In Colab\"/></a>"
      ]
    },
    {
      "cell_type": "markdown",
      "metadata": {
        "id": "nkHSBYsUlmiP"
      },
      "source": [
        "**Summation Of Primes**\n",
        "\n",
        "In this problem, we are being asked to return the sum of every prime below a number, in this case 2 million. We implement the ***Sieve of Eratosthenes*** to efficiently accomplish this.\n",
        "\n",
        "The Sieve works as follows: Given a number, the Sieve starts at 2 and crosses out all of its multiples (4,6,8, etc) up to the number. It then moves to the next available number (3) and crosses out its remaining multiples (9,15, etc). In this manner all composite numbers are removed and we are only left with prime numbers.\n",
        "\n",
        "We define two functions: ***multiples()*** returns the multiples of a given number **x** under some number **y**. Then, ***sieve()*** takes the required number **x** and initializes a boolean array of **x** values originally set to **True**, representing the values from 2 to **x**. From there, it iterates through each number and uses ***multiples()*** to cross out each corresponding multiple. Crossed out numbers are set to **False** in the array, and we finally compute an array **primes** that contains only the **True** (prime) values from 2 to **x**. We return the sum of the primes in the array (minus 1 to exclude the number \"1\" from the sum).\n"
      ]
    },
    {
      "cell_type": "code",
      "metadata": {
        "id": "c4kRVxkUYBy_"
      },
      "source": [
        "import numpy as np\n",
        "def multiples(x, y):\n",
        "  mults = [i*x for i in range(2,y) if i*x < y]\n",
        "  return mults\n",
        "\n",
        "def sieve(x):\n",
        "  arr=[True for i in range(2,x+1)]\n",
        "  for i in range(2, int(np.sqrt(x))):\n",
        "    if arr[i]==True:\n",
        "      for j in multiples(i,x-1):\n",
        "        arr[j]=False\n",
        "  primes = [i for i,x in enumerate(arr) if x==True]\n",
        "  primes.pop(0)\n",
        "  return sum(primes)-1"
      ],
      "execution_count": 32,
      "outputs": []
    },
    {
      "cell_type": "markdown",
      "metadata": {
        "id": "wqv_Jhb7nWVn"
      },
      "source": [
        "Testing ***sieve()*** with 2 million to get the sum of all primes under 2,000,000:"
      ]
    },
    {
      "cell_type": "code",
      "metadata": {
        "colab": {
          "base_uri": "https://localhost:8080/"
        },
        "id": "ylRo1TpTYMb5",
        "outputId": "776ddbb1-5a70-4bb8-c4ec-d7e01a00d90d"
      },
      "source": [
        "sieve(2000000)"
      ],
      "execution_count": 33,
      "outputs": [
        {
          "output_type": "execute_result",
          "data": {
            "text/plain": [
              "142913828922"
            ]
          },
          "metadata": {},
          "execution_count": 33
        }
      ]
    },
    {
      "cell_type": "markdown",
      "metadata": {
        "id": "VCJjkT5Undpv"
      },
      "source": [
        "**Success!**"
      ]
    }
  ]
}