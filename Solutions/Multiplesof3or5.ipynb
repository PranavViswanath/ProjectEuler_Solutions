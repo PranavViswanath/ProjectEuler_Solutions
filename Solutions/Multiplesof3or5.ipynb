{
  "nbformat": 4,
  "nbformat_minor": 0,
  "metadata": {
    "colab": {
      "name": "Multiplesof3or5.ipynb",
      "provenance": [],
      "authorship_tag": "ABX9TyNjAnLvWu/EIIt+ZIowwJWj",
      "include_colab_link": true
    },
    "kernelspec": {
      "name": "python3",
      "display_name": "Python 3"
    },
    "language_info": {
      "name": "python"
    }
  },
  "cells": [
    {
      "cell_type": "markdown",
      "metadata": {
        "id": "view-in-github",
        "colab_type": "text"
      },
      "source": [
        "<a href=\"https://colab.research.google.com/github/PranavViswanath/ProjectEuler_Solutions/blob/main/Solutions/Multiplesof3or5.ipynb\" target=\"_parent\"><img src=\"https://colab.research.google.com/assets/colab-badge.svg\" alt=\"Open In Colab\"/></a>"
      ]
    },
    {
      "cell_type": "markdown",
      "metadata": {
        "id": "PSi4SNNpUt8i"
      },
      "source": [
        "**Multiples of 3 or 5**\n",
        "\n",
        "In this problem, we must find the sum of all multiples of either 3 or 5 under a given number. This function takes in an integer **x**, and initializes an empty list. The number is then fully iterated through to find the required multiples, and those numbers are appended to the list. Finally, the sum of the list is returned to the user."
      ]
    },
    {
      "cell_type": "code",
      "metadata": {
        "id": "eDzlx7D5RBJf"
      },
      "source": [
        "def sum_multiples(x):\n",
        "  arr=[]\n",
        "  for i in range(1000):\n",
        "    if i%3==0:\n",
        "      arr.append(i)\n",
        "    elif i%5==0:\n",
        "      arr.append(i)\n",
        "  print(sum(arr))"
      ],
      "execution_count": null,
      "outputs": []
    },
    {
      "cell_type": "markdown",
      "metadata": {
        "id": "FakZCSm2V28S"
      },
      "source": [
        "Running 'sum_multiples' with 1000:"
      ]
    },
    {
      "cell_type": "code",
      "metadata": {
        "colab": {
          "base_uri": "https://localhost:8080/"
        },
        "id": "l8LwNZz4V7my",
        "outputId": "a4b926b0-e416-4a93-a4ed-f8dda4df8703"
      },
      "source": [
        "sum_multiples(1000)"
      ],
      "execution_count": null,
      "outputs": [
        {
          "output_type": "stream",
          "text": [
            "233168\n"
          ],
          "name": "stdout"
        }
      ]
    },
    {
      "cell_type": "markdown",
      "metadata": {
        "id": "hm4mFX2MWD5J"
      },
      "source": [
        "**Success!**"
      ]
    }
  ]
}