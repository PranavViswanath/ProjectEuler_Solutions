{
  "nbformat": 4,
  "nbformat_minor": 0,
  "metadata": {
    "colab": {
      "name": "SmallestMultiple.ipynb",
      "provenance": [],
      "authorship_tag": "ABX9TyNBJgOsduHBrVsefchfQdyd",
      "include_colab_link": true
    },
    "kernelspec": {
      "name": "python3",
      "display_name": "Python 3"
    },
    "language_info": {
      "name": "python"
    }
  },
  "cells": [
    {
      "cell_type": "markdown",
      "metadata": {
        "id": "view-in-github",
        "colab_type": "text"
      },
      "source": [
        "<a href=\"https://colab.research.google.com/github/PranavViswanath/ProjectEuler_Solutions/blob/main/Solutions/SmallestMultiple.ipynb\" target=\"_parent\"><img src=\"https://colab.research.google.com/assets/colab-badge.svg\" alt=\"Open In Colab\"/></a>"
      ]
    },
    {
      "cell_type": "markdown",
      "metadata": {
        "id": "99uFPf6O0VlQ"
      },
      "source": [
        "**Smallest Multiple**\n",
        "\n",
        "As the problem name suggests, we are being asked to find the smallest number that can be evenly divided by the numbers 1-20, or in other words, the LCM of the numbers 1-20. Here are two methods leveraging the power of libraries.\n",
        "\n",
        "The first uses the **gcd()** function from the **math** library. It takes in an argument of the list of numbers and outputs the corresponding LCM. We run this with an array of numbers from 1-20 as requested and receive an output."
      ]
    },
    {
      "cell_type": "code",
      "metadata": {
        "colab": {
          "base_uri": "https://localhost:8080/"
        },
        "id": "8j51rttae1ba",
        "outputId": "c1fb1356-dd3f-416b-b5c5-4b5099dd0e28"
      },
      "source": [
        "from math import gcd\n",
        "a=[]\n",
        "for i in range(2,21):\n",
        "  a.append(i)   \n",
        "lcm = 1\n",
        "for i in a:\n",
        "    lcm = lcm*i//gcd(lcm, i)\n",
        "print(lcm)"
      ],
      "execution_count": 157,
      "outputs": [
        {
          "output_type": "stream",
          "text": [
            "232792560\n"
          ],
          "name": "stdout"
        }
      ]
    },
    {
      "cell_type": "markdown",
      "metadata": {
        "id": "Ztkp_cGf05u6"
      },
      "source": [
        "We could also use **lcm()** from the **numpy** library and pass in the same array, yielding the correct output as well."
      ]
    },
    {
      "cell_type": "code",
      "metadata": {
        "colab": {
          "base_uri": "https://localhost:8080/"
        },
        "id": "WWVOiUrLz4t6",
        "outputId": "8a5aecea-264c-4597-b939-bdae0a144fbd"
      },
      "source": [
        "from numpy import lcm\n",
        "print(lcm.reduce(a))"
      ],
      "execution_count": 164,
      "outputs": [
        {
          "output_type": "stream",
          "text": [
            "232792560\n"
          ],
          "name": "stdout"
        }
      ]
    },
    {
      "cell_type": "markdown",
      "metadata": {
        "id": "8cHVIIfy1CCI"
      },
      "source": [
        "**Success!**"
      ]
    }
  ]
}
