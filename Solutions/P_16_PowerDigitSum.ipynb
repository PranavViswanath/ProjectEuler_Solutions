{
  "nbformat": 4,
  "nbformat_minor": 0,
  "metadata": {
    "colab": {
      "name": "P16_PowerDigitSum.ipynb",
      "provenance": [],
      "authorship_tag": "ABX9TyNCfQ3oTjEhHahedIzKAmjC",
      "include_colab_link": true
    },
    "kernelspec": {
      "name": "python3",
      "display_name": "Python 3"
    },
    "language_info": {
      "name": "python"
    }
  },
  "cells": [
    {
      "cell_type": "markdown",
      "metadata": {
        "id": "view-in-github",
        "colab_type": "text"
      },
      "source": [
        "<a href=\"https://colab.research.google.com/github/PranavViswanath/ProjectEuler_Solutions/blob/main/Solutions/P_16_PowerDigitSum.ipynb\" target=\"_parent\"><img src=\"https://colab.research.google.com/assets/colab-badge.svg\" alt=\"Open In Colab\"/></a>"
      ]
    },
    {
      "cell_type": "markdown",
      "metadata": {
        "id": "b3ZX7Rq_tgae"
      },
      "source": [
        "**Power Digit Sum**\n",
        "\n",
        "In this problem, we are asked to return the sum of the digits of a number, in this case 2^(1000). Here is a function ***sumdigits()*** which takes a number ***n*** and takes it digits from the right and adds it to a total ***tot***, and we return ***tot*** for the answer."
      ]
    },
    {
      "cell_type": "code",
      "metadata": {
        "id": "nkmYMrvJwddb"
      },
      "source": [
        "def sumdigits(n):\n",
        "  tot=0\n",
        "  while n>=1: # if number is greater than or equal to 1\n",
        "    x=n%10 \n",
        "    tot+=x\n",
        "    n//=10 # add units digit to total, floor divide number to get rest of numbers\n",
        "  return tot"
      ],
      "execution_count": 20,
      "outputs": []
    },
    {
      "cell_type": "markdown",
      "metadata": {
        "id": "YEAxxyxct4bz"
      },
      "source": [
        "Running ***sumdigits()*** with 2^(1000):"
      ]
    },
    {
      "cell_type": "code",
      "metadata": {
        "colab": {
          "base_uri": "https://localhost:8080/"
        },
        "id": "jbqq-hLOrj0N",
        "outputId": "50da09cb-9396-4c7a-e041-d9244f39b811"
      },
      "source": [
        "sumdigits(2**1000)"
      ],
      "execution_count": 21,
      "outputs": [
        {
          "output_type": "execute_result",
          "data": {
            "text/plain": [
              "1366"
            ]
          },
          "metadata": {},
          "execution_count": 21
        }
      ]
    },
    {
      "cell_type": "markdown",
      "metadata": {
        "id": "NokFY6f4t8ze"
      },
      "source": [
        "**Success!**"
      ]
    }
  ]
}